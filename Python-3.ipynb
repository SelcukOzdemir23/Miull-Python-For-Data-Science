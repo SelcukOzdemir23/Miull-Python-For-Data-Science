{
 "cells": [
  {
   "attachments": {},
   "cell_type": "markdown",
   "metadata": {},
   "source": [
    "# Uygulama - Mülatak Sorusu\n",
    "\n",
    "### Aşağıdaki şekilde string değiştiren fonksiyon yazmak istiyoruz.\n",
    "\n",
    "before: \"hi my name is john and i am learning python\"\n",
    "after: \"Hi mY NaMe iS JoHn aNd i aM LeArNiNg pYtHon\""
   ]
  },
  {
   "cell_type": "code",
   "execution_count": 1,
   "metadata": {},
   "outputs": [],
   "source": [
    "def change(cumle):\n",
    "    yeniCumle=\"\"\n",
    "    for i in range(len(cumle)):\n",
    "        if i%2==0:\n",
    "            yeniCumle= yeniCumle+cumle[i].upper()\n",
    "        else:\n",
    "            yeniCumle+=cumle[i]\n",
    "    print(yeniCumle)\n",
    "    return yeniCumle\n",
    "\n"
   ]
  },
  {
   "cell_type": "code",
   "execution_count": 2,
   "metadata": {},
   "outputs": [
    {
     "name": "stdout",
     "output_type": "stream",
     "text": [
      "Hi mY NaMe iS JoHn aNd i aM LeArNiNg pYtHoN\n"
     ]
    },
    {
     "data": {
      "text/plain": [
       "'Hi mY NaMe iS JoHn aNd i aM LeArNiNg pYtHoN'"
      ]
     },
     "execution_count": 2,
     "metadata": {},
     "output_type": "execute_result"
    }
   ],
   "source": [
    "change(\"hi my name is john and i am learning python\")"
   ]
  },
  {
   "attachments": {},
   "cell_type": "markdown",
   "metadata": {},
   "source": [
    "### Enumarate"
   ]
  },
  {
   "cell_type": "code",
   "execution_count": 3,
   "metadata": {},
   "outputs": [],
   "source": [
    "students = [\"John\",\"Mark\",\"Venessa\",\"Mariam\"]"
   ]
  },
  {
   "cell_type": "code",
   "execution_count": 6,
   "metadata": {},
   "outputs": [
    {
     "name": "stdout",
     "output_type": "stream",
     "text": [
      "John\n",
      "Mark\n",
      "Venessa\n",
      "Mariam\n",
      "0 John\n",
      "1 Mark\n",
      "2 Venessa\n",
      "3 Mariam\n"
     ]
    }
   ],
   "source": [
    "for student in students:\n",
    "    print(student)\n",
    "\n",
    "for index,student in enumerate(students):\n",
    "    print(index,student)"
   ]
  },
  {
   "cell_type": "code",
   "execution_count": 7,
   "metadata": {},
   "outputs": [],
   "source": [
    "A = []\n",
    "B = []"
   ]
  },
  {
   "cell_type": "code",
   "execution_count": 8,
   "metadata": {},
   "outputs": [],
   "source": [
    "for index,student in enumerate(students):\n",
    "    if index %2 ==0:\n",
    "        A.append(student)\n",
    "    else:\n",
    "        B.append(student)"
   ]
  },
  {
   "cell_type": "code",
   "execution_count": 10,
   "metadata": {},
   "outputs": [
    {
     "data": {
      "text/plain": [
       "['Mark', 'Mariam']"
      ]
     },
     "execution_count": 10,
     "metadata": {},
     "output_type": "execute_result"
    }
   ],
   "source": [
    "A\n",
    "B"
   ]
  },
  {
   "attachments": {},
   "cell_type": "markdown",
   "metadata": {},
   "source": [
    "# UYGULAMA MÜLAKAT\n",
    "divide_students fonksiyonu\n",
    "çift indekste yer alanlar bir yere\n",
    "tek indekste yer alanlar bir yere\n",
    "fakat bu iki liste tek bir liste olarak return olsun"
   ]
  },
  {
   "cell_type": "code",
   "execution_count": 13,
   "metadata": {},
   "outputs": [],
   "source": [
    "students = [\"John\",\"Mark\",\"Venessa\",\"Mariam\"]\n",
    "def divide_students(students):\n",
    "    firstStudents = []\n",
    "    secondStudents = []\n",
    "    for index,student in enumerate(students):\n",
    "        if index %2 ==0:\n",
    "            firstStudents.append(student)\n",
    "        else:\n",
    "            secondStudents.append(student)\n",
    "    allStudents = firstStudents+secondStudents\n",
    "    return allStudents"
   ]
  },
  {
   "cell_type": "code",
   "execution_count": 14,
   "metadata": {},
   "outputs": [
    {
     "data": {
      "text/plain": [
       "['John', 'Venessa', 'Mark', 'Mariam']"
      ]
     },
     "execution_count": 14,
     "metadata": {},
     "output_type": "execute_result"
    }
   ],
   "source": [
    "divide_students(students)"
   ]
  },
  {
   "attachments": {},
   "cell_type": "markdown",
   "metadata": {},
   "source": [
    "### Alternating fonksiyonunun enumarate ile yazılması"
   ]
  },
  {
   "cell_type": "code",
   "execution_count": 16,
   "metadata": {},
   "outputs": [],
   "source": [
    "def alternating_with_enumarate(string):\n",
    "    new_string = \"\"\n",
    "    for i,letter in enumerate(string):\n",
    "        if i %2 ==0:\n",
    "            new_string+=letter.upper()\n",
    "        else:\n",
    "            new_string+= letter.lower()\n",
    "    print(new_string)"
   ]
  },
  {
   "cell_type": "code",
   "execution_count": 18,
   "metadata": {},
   "outputs": [],
   "source": [
    "students = [\"John\",\"Mark\",\"Venessa\",\"Mariam\"]\n",
    "\n",
    "departments = [\"physics\",\"mathematic\"]\n",
    "\n",
    "numbers = [1,7,2,2]"
   ]
  },
  {
   "cell_type": "code",
   "execution_count": 21,
   "metadata": {},
   "outputs": [
    {
     "data": {
      "text/plain": [
       "[('John', 'physics', 1), ('Mark', 'mathematic', 7)]"
      ]
     },
     "execution_count": 21,
     "metadata": {},
     "output_type": "execute_result"
    }
   ],
   "source": [
    "list(zip(students,departments,numbers))"
   ]
  },
  {
   "attachments": {},
   "cell_type": "markdown",
   "metadata": {},
   "source": [
    "### lamda , map , filter , reduce"
   ]
  },
  {
   "cell_type": "code",
   "execution_count": 22,
   "metadata": {},
   "outputs": [],
   "source": [
    "def summer(a,b):\n",
    "    return a + b"
   ]
  },
  {
   "cell_type": "code",
   "execution_count": 23,
   "metadata": {},
   "outputs": [],
   "source": [
    "new_sum = lambda a,b : a+b"
   ]
  },
  {
   "cell_type": "code",
   "execution_count": 24,
   "metadata": {},
   "outputs": [
    {
     "data": {
      "text/plain": [
       "9"
      ]
     },
     "execution_count": 24,
     "metadata": {},
     "output_type": "execute_result"
    }
   ],
   "source": [
    "new_sum(4,5)"
   ]
  },
  {
   "cell_type": "code",
   "execution_count": 25,
   "metadata": {},
   "outputs": [],
   "source": [
    "#map"
   ]
  },
  {
   "cell_type": "code",
   "execution_count": 26,
   "metadata": {},
   "outputs": [],
   "source": [
    "salaries = [1000,2000,3000,4000,5000]"
   ]
  },
  {
   "cell_type": "code",
   "execution_count": 27,
   "metadata": {},
   "outputs": [
    {
     "ename": "NameError",
     "evalue": "name 'new_Salary' is not defined",
     "output_type": "error",
     "traceback": [
      "\u001b[1;31m---------------------------------------------------------------------------\u001b[0m",
      "\u001b[1;31mNameError\u001b[0m                                 Traceback (most recent call last)",
      "Cell \u001b[1;32mIn [27], line 1\u001b[0m\n\u001b[1;32m----> 1\u001b[0m \u001b[39mlist\u001b[39m(\u001b[39mmap\u001b[39m(new_Salary,salaries))\n",
      "\u001b[1;31mNameError\u001b[0m: name 'new_Salary' is not defined"
     ]
    }
   ],
   "source": [
    "list(map(new_Salary,salaries))"
   ]
  },
  {
   "cell_type": "code",
   "execution_count": 28,
   "metadata": {},
   "outputs": [
    {
     "data": {
      "text/plain": [
       "[1000.2, 2000.2, 3000.2, 4000.2, 5000.2]"
      ]
     },
     "execution_count": 28,
     "metadata": {},
     "output_type": "execute_result"
    }
   ],
   "source": [
    "list(map(lambda x:x+20/100,salaries))"
   ]
  },
  {
   "cell_type": "code",
   "execution_count": null,
   "metadata": {},
   "outputs": [],
   "source": []
  }
 ],
 "metadata": {
  "kernelspec": {
   "display_name": "Python 3",
   "language": "python",
   "name": "python3"
  },
  "language_info": {
   "codemirror_mode": {
    "name": "ipython",
    "version": 3
   },
   "file_extension": ".py",
   "mimetype": "text/x-python",
   "name": "python",
   "nbconvert_exporter": "python",
   "pygments_lexer": "ipython3",
   "version": "3.10.7"
  },
  "orig_nbformat": 4,
  "vscode": {
   "interpreter": {
    "hash": "a9ce8d1bd4cef32f29373bcb59c6a6d376d05724fa6dbea12cabade3e8f60e84"
   }
  }
 },
 "nbformat": 4,
 "nbformat_minor": 2
}
